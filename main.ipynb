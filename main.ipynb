{
 "cells": [
  {
   "cell_type": "code",
   "execution_count": 1,
   "metadata": {},
   "outputs": [
    {
     "name": "stdout",
     "output_type": "stream",
     "text": [
      "WARNING:tensorflow:From c:\\Users\\91936\\Desktop\\digit recognition\\env\\Lib\\site-packages\\keras\\src\\losses.py:2976: The name tf.losses.sparse_softmax_cross_entropy is deprecated. Please use tf.compat.v1.losses.sparse_softmax_cross_entropy instead.\n",
      "\n"
     ]
    }
   ],
   "source": [
    "import numpy as np\n",
    "import matplotlib.pyplot as plt\n",
    "import tensorflow as tf\n",
    "import pandas as pd"
   ]
  },
  {
   "cell_type": "code",
   "execution_count": 2,
   "metadata": {},
   "outputs": [],
   "source": [
    "from keras.datasets import mnist"
   ]
  },
  {
   "cell_type": "code",
   "execution_count": 3,
   "metadata": {},
   "outputs": [],
   "source": [
    "(x_train,y_train),(x_test,y_test) = mnist.load_data()"
   ]
  },
  {
   "cell_type": "code",
   "execution_count": 4,
   "metadata": {},
   "outputs": [
    {
     "name": "stdout",
     "output_type": "stream",
     "text": [
      "(60000, 28, 28)\n",
      "(10000, 28, 28)\n"
     ]
    }
   ],
   "source": [
    "print(x_train.shape)\n",
    "print(x_test.shape)"
   ]
  },
  {
   "cell_type": "code",
   "execution_count": 5,
   "metadata": {},
   "outputs": [],
   "source": [
    "x_train = np.array(x_train)\n",
    "x_train = x_train.reshape(60000,784)\n",
    "x_train = tf.cast(x_train, tf.float32)"
   ]
  },
  {
   "cell_type": "code",
   "execution_count": 6,
   "metadata": {},
   "outputs": [
    {
     "data": {
      "text/plain": [
       "(10000, 784)"
      ]
     },
     "execution_count": 6,
     "metadata": {},
     "output_type": "execute_result"
    }
   ],
   "source": [
    "x_test = np.array(x_test)\n",
    "x_test = x_test.reshape(10000,784)\n",
    "x_test.shape"
   ]
  },
  {
   "cell_type": "code",
   "execution_count": 7,
   "metadata": {},
   "outputs": [
    {
     "data": {
      "text/html": [
       "<div>\n",
       "<style scoped>\n",
       "    .dataframe tbody tr th:only-of-type {\n",
       "        vertical-align: middle;\n",
       "    }\n",
       "\n",
       "    .dataframe tbody tr th {\n",
       "        vertical-align: top;\n",
       "    }\n",
       "\n",
       "    .dataframe thead th {\n",
       "        text-align: right;\n",
       "    }\n",
       "</style>\n",
       "<table border=\"1\" class=\"dataframe\">\n",
       "  <thead>\n",
       "    <tr style=\"text-align: right;\">\n",
       "      <th></th>\n",
       "      <th>0</th>\n",
       "    </tr>\n",
       "  </thead>\n",
       "  <tbody>\n",
       "    <tr>\n",
       "      <th>0</th>\n",
       "      <td>5</td>\n",
       "    </tr>\n",
       "    <tr>\n",
       "      <th>1</th>\n",
       "      <td>0</td>\n",
       "    </tr>\n",
       "    <tr>\n",
       "      <th>2</th>\n",
       "      <td>4</td>\n",
       "    </tr>\n",
       "    <tr>\n",
       "      <th>3</th>\n",
       "      <td>1</td>\n",
       "    </tr>\n",
       "    <tr>\n",
       "      <th>4</th>\n",
       "      <td>9</td>\n",
       "    </tr>\n",
       "    <tr>\n",
       "      <th>...</th>\n",
       "      <td>...</td>\n",
       "    </tr>\n",
       "    <tr>\n",
       "      <th>59995</th>\n",
       "      <td>8</td>\n",
       "    </tr>\n",
       "    <tr>\n",
       "      <th>59996</th>\n",
       "      <td>3</td>\n",
       "    </tr>\n",
       "    <tr>\n",
       "      <th>59997</th>\n",
       "      <td>5</td>\n",
       "    </tr>\n",
       "    <tr>\n",
       "      <th>59998</th>\n",
       "      <td>6</td>\n",
       "    </tr>\n",
       "    <tr>\n",
       "      <th>59999</th>\n",
       "      <td>8</td>\n",
       "    </tr>\n",
       "  </tbody>\n",
       "</table>\n",
       "<p>60000 rows × 1 columns</p>\n",
       "</div>"
      ],
      "text/plain": [
       "       0\n",
       "0      5\n",
       "1      0\n",
       "2      4\n",
       "3      1\n",
       "4      9\n",
       "...   ..\n",
       "59995  8\n",
       "59996  3\n",
       "59997  5\n",
       "59998  6\n",
       "59999  8\n",
       "\n",
       "[60000 rows x 1 columns]"
      ]
     },
     "execution_count": 7,
     "metadata": {},
     "output_type": "execute_result"
    }
   ],
   "source": [
    "df = pd.DataFrame(y_train)\n",
    "df"
   ]
  },
  {
   "cell_type": "code",
   "execution_count": 8,
   "metadata": {},
   "outputs": [
    {
     "name": "stdout",
     "output_type": "stream",
     "text": [
      "         0_0    0_1    0_2    0_3    0_4    0_5    0_6    0_7    0_8    0_9\n",
      "0      False  False  False  False  False   True  False  False  False  False\n",
      "1       True  False  False  False  False  False  False  False  False  False\n",
      "2      False  False  False  False   True  False  False  False  False  False\n",
      "3      False   True  False  False  False  False  False  False  False  False\n",
      "4      False  False  False  False  False  False  False  False  False   True\n",
      "...      ...    ...    ...    ...    ...    ...    ...    ...    ...    ...\n",
      "59995  False  False  False  False  False  False  False  False   True  False\n",
      "59996  False  False  False   True  False  False  False  False  False  False\n",
      "59997  False  False  False  False  False   True  False  False  False  False\n",
      "59998  False  False  False  False  False  False   True  False  False  False\n",
      "59999  False  False  False  False  False  False  False  False   True  False\n",
      "\n",
      "[60000 rows x 10 columns]\n",
      "       0_0  0_1  0_2  0_3  0_4  0_5  0_6  0_7  0_8  0_9\n",
      "0        0    0    0    0    0    1    0    0    0    0\n",
      "1        1    0    0    0    0    0    0    0    0    0\n",
      "2        0    0    0    0    1    0    0    0    0    0\n",
      "3        0    1    0    0    0    0    0    0    0    0\n",
      "4        0    0    0    0    0    0    0    0    0    1\n",
      "...    ...  ...  ...  ...  ...  ...  ...  ...  ...  ...\n",
      "59995    0    0    0    0    0    0    0    0    1    0\n",
      "59996    0    0    0    1    0    0    0    0    0    0\n",
      "59997    0    0    0    0    0    1    0    0    0    0\n",
      "59998    0    0    0    0    0    0    1    0    0    0\n",
      "59999    0    0    0    0    0    0    0    0    1    0\n",
      "\n",
      "[60000 rows x 10 columns]\n"
     ]
    }
   ],
   "source": [
    " \n",
    "y_train= pd.get_dummies(df, columns = [0]) \n",
    "print(y_train)\n",
    "y_train = y_train.astype(int)\n",
    "print(y_train)"
   ]
  },
  {
   "cell_type": "code",
   "execution_count": 9,
   "metadata": {},
   "outputs": [
    {
     "data": {
      "text/html": [
       "<div>\n",
       "<style scoped>\n",
       "    .dataframe tbody tr th:only-of-type {\n",
       "        vertical-align: middle;\n",
       "    }\n",
       "\n",
       "    .dataframe tbody tr th {\n",
       "        vertical-align: top;\n",
       "    }\n",
       "\n",
       "    .dataframe thead th {\n",
       "        text-align: right;\n",
       "    }\n",
       "</style>\n",
       "<table border=\"1\" class=\"dataframe\">\n",
       "  <thead>\n",
       "    <tr style=\"text-align: right;\">\n",
       "      <th></th>\n",
       "      <th>0</th>\n",
       "    </tr>\n",
       "  </thead>\n",
       "  <tbody>\n",
       "    <tr>\n",
       "      <th>0</th>\n",
       "      <td>7</td>\n",
       "    </tr>\n",
       "    <tr>\n",
       "      <th>1</th>\n",
       "      <td>2</td>\n",
       "    </tr>\n",
       "    <tr>\n",
       "      <th>2</th>\n",
       "      <td>1</td>\n",
       "    </tr>\n",
       "    <tr>\n",
       "      <th>3</th>\n",
       "      <td>0</td>\n",
       "    </tr>\n",
       "    <tr>\n",
       "      <th>4</th>\n",
       "      <td>4</td>\n",
       "    </tr>\n",
       "    <tr>\n",
       "      <th>...</th>\n",
       "      <td>...</td>\n",
       "    </tr>\n",
       "    <tr>\n",
       "      <th>9995</th>\n",
       "      <td>2</td>\n",
       "    </tr>\n",
       "    <tr>\n",
       "      <th>9996</th>\n",
       "      <td>3</td>\n",
       "    </tr>\n",
       "    <tr>\n",
       "      <th>9997</th>\n",
       "      <td>4</td>\n",
       "    </tr>\n",
       "    <tr>\n",
       "      <th>9998</th>\n",
       "      <td>5</td>\n",
       "    </tr>\n",
       "    <tr>\n",
       "      <th>9999</th>\n",
       "      <td>6</td>\n",
       "    </tr>\n",
       "  </tbody>\n",
       "</table>\n",
       "<p>10000 rows × 1 columns</p>\n",
       "</div>"
      ],
      "text/plain": [
       "      0\n",
       "0     7\n",
       "1     2\n",
       "2     1\n",
       "3     0\n",
       "4     4\n",
       "...  ..\n",
       "9995  2\n",
       "9996  3\n",
       "9997  4\n",
       "9998  5\n",
       "9999  6\n",
       "\n",
       "[10000 rows x 1 columns]"
      ]
     },
     "execution_count": 9,
     "metadata": {},
     "output_type": "execute_result"
    }
   ],
   "source": [
    "dft = pd.DataFrame(y_test)\n",
    "dft"
   ]
  },
  {
   "cell_type": "code",
   "execution_count": 10,
   "metadata": {},
   "outputs": [
    {
     "name": "stdout",
     "output_type": "stream",
     "text": [
      "        0_0    0_1    0_2    0_3    0_4    0_5    0_6    0_7    0_8    0_9\n",
      "0     False  False  False  False  False  False  False   True  False  False\n",
      "1     False  False   True  False  False  False  False  False  False  False\n",
      "2     False   True  False  False  False  False  False  False  False  False\n",
      "3      True  False  False  False  False  False  False  False  False  False\n",
      "4     False  False  False  False   True  False  False  False  False  False\n",
      "...     ...    ...    ...    ...    ...    ...    ...    ...    ...    ...\n",
      "9995  False  False   True  False  False  False  False  False  False  False\n",
      "9996  False  False  False   True  False  False  False  False  False  False\n",
      "9997  False  False  False  False   True  False  False  False  False  False\n",
      "9998  False  False  False  False  False   True  False  False  False  False\n",
      "9999  False  False  False  False  False  False   True  False  False  False\n",
      "\n",
      "[10000 rows x 10 columns]\n",
      "      0_0  0_1  0_2  0_3  0_4  0_5  0_6  0_7  0_8  0_9\n",
      "0       0    0    0    0    0    0    0    1    0    0\n",
      "1       0    0    1    0    0    0    0    0    0    0\n",
      "2       0    1    0    0    0    0    0    0    0    0\n",
      "3       1    0    0    0    0    0    0    0    0    0\n",
      "4       0    0    0    0    1    0    0    0    0    0\n",
      "...   ...  ...  ...  ...  ...  ...  ...  ...  ...  ...\n",
      "9995    0    0    1    0    0    0    0    0    0    0\n",
      "9996    0    0    0    1    0    0    0    0    0    0\n",
      "9997    0    0    0    0    1    0    0    0    0    0\n",
      "9998    0    0    0    0    0    1    0    0    0    0\n",
      "9999    0    0    0    0    0    0    1    0    0    0\n",
      "\n",
      "[10000 rows x 10 columns]\n"
     ]
    }
   ],
   "source": [
    "y_test= pd.get_dummies(dft, columns= [0])\n",
    "print(y_test)\n",
    "y_test = y_test.astype(int)\n",
    "print(y_test)"
   ]
  },
  {
   "cell_type": "code",
   "execution_count": 11,
   "metadata": {},
   "outputs": [],
   "source": [
    "n_input = 784\n",
    "n_h1 = 392\n",
    "n_h2 = 196\n",
    "n_out = 10"
   ]
  },
  {
   "cell_type": "code",
   "execution_count": 12,
   "metadata": {},
   "outputs": [],
   "source": [
    "weights = {\n",
    "    'h1' : tf.random.uniform([n_input,n_h1],minval=-1.0,maxval=1.0),\n",
    "    'h2' : tf.random.uniform([n_h1,n_h2],minval=-1.0,maxval=1.0),\n",
    "    'out' : tf.random.uniform([n_h2,n_out],minval=-1.0,maxval=1.0)\n",
    "}\n",
    "\n",
    "bias = {\n",
    "    'h1' : tf.random.uniform([n_h1],minval=-1.0,maxval=1.0),\n",
    "    'h2' : tf.random.uniform([n_h2],minval=-1.0,maxval=1.0),\n",
    "    'out' : tf.random.uniform([n_out],minval=-1.0,maxval=1.0)\n",
    "}"
   ]
  },
  {
   "cell_type": "code",
   "execution_count": 13,
   "metadata": {},
   "outputs": [],
   "source": [
    "def forwardpropogation(x,weights,bias):\n",
    "    in_layer1 = tf.add(tf.matmul(x,weights['h1']),bias['h1'])\n",
    "    out_layer1 = tf.nn.relu(in_layer1)\n",
    "\n",
    "    in_layer2 = tf.add(tf.matmul(out_layer1,weights['h2']),bias['h2'])\n",
    "    out_layer2 = tf.nn.relu(in_layer2)\n",
    "\n",
    "    output = tf.add(tf.matmul(out_layer2,weights['out']),bias['out'])\n",
    "\n",
    "    return output"
   ]
  },
  {
   "cell_type": "code",
   "execution_count": 14,
   "metadata": {},
   "outputs": [
    {
     "data": {
      "text/plain": [
       "(<tf.Tensor: shape=(60000,), dtype=float32, numpy=array([9., 8., 3., ..., 9., 9., 8.], dtype=float32)>,\n",
       " <tf.Tensor: shape=(60000,), dtype=float32, numpy=array([5., 0., 4., ..., 5., 6., 8.], dtype=float32)>)"
      ]
     },
     "execution_count": 14,
     "metadata": {},
     "output_type": "execute_result"
    }
   ],
   "source": [
    "y_pred = forwardpropogation(x_train,weights,bias)\n",
    "y_pred = tf.argmax(y_pred,1)\n",
    "y_pred = tf.cast(y_pred, dtype=tf.float32)\n",
    "y_train = tf.argmax(y_train,1)\n",
    "y_train = tf.cast(y_train, dtype=tf.float32)\n",
    "y_pred,y_train"
   ]
  },
  {
   "cell_type": "code",
   "execution_count": 15,
   "metadata": {},
   "outputs": [
    {
     "data": {
      "text/plain": [
       "<tf.Tensor: shape=(60000,), dtype=bool, numpy=array([False, False, False, ..., False, False,  True])>"
      ]
     },
     "execution_count": 15,
     "metadata": {},
     "output_type": "execute_result"
    }
   ],
   "source": [
    "correct_pred = tf.equal(y_pred,y_train)\n",
    "count = 0\n",
    "correct_pred"
   ]
  },
  {
   "cell_type": "code",
   "execution_count": 16,
   "metadata": {},
   "outputs": [
    {
     "name": "stdout",
     "output_type": "stream",
     "text": [
      "[False False False ... False False  True]\n",
      "False\n"
     ]
    }
   ],
   "source": [
    "correct_pred_np = correct_pred.numpy()\n",
    "print(correct_pred_np)\n",
    "print(correct_pred_np[0])\n",
    "\n",
    "for e in correct_pred_np:\n",
    "    if(e == 'True'):\n",
    "        print('1')"
   ]
  },
  {
   "cell_type": "code",
   "execution_count": 17,
   "metadata": {},
   "outputs": [
    {
     "data": {
      "text/plain": [
       "numpy.ndarray"
      ]
     },
     "execution_count": 17,
     "metadata": {},
     "output_type": "execute_result"
    }
   ],
   "source": [
    "type(correct_pred_np)"
   ]
  },
  {
   "cell_type": "code",
   "execution_count": 18,
   "metadata": {},
   "outputs": [
    {
     "name": "stdout",
     "output_type": "stream",
     "text": [
      "tf.Tensor(7480, shape=(), dtype=int32)\n"
     ]
    }
   ],
   "source": [
    "sum_correct_pred = tf.reduce_sum(tf.cast(correct_pred, dtype=tf.int32))\n",
    "print(sum_correct_pred)"
   ]
  },
  {
   "cell_type": "code",
   "execution_count": 19,
   "metadata": {},
   "outputs": [
    {
     "data": {
      "text/plain": [
       "<tf.Tensor: shape=(), dtype=float32, numpy=3373749.5>"
      ]
     },
     "execution_count": 19,
     "metadata": {},
     "output_type": "execute_result"
    }
   ],
   "source": [
    "error = tf.nn.softmax_cross_entropy_with_logits(labels=y_train,logits=y_pred)\n",
    "error"
   ]
  },
  {
   "cell_type": "code",
   "execution_count": 20,
   "metadata": {},
   "outputs": [
    {
     "data": {
      "text/plain": [
       "[{'h1': <tf.Tensor: shape=(784, 392), dtype=float32, numpy=\n",
       "  array([[ 0.55316687, -0.18975711, -0.3243544 , ..., -0.56612444,\n",
       "          -0.61613417,  0.7041285 ],\n",
       "         [-0.02297735, -0.28982353, -0.06136131, ...,  0.83217645,\n",
       "          -0.19346213,  0.32695007],\n",
       "         [ 0.93679476,  0.7397816 , -0.7020376 , ...,  0.33782744,\n",
       "          -0.2790575 , -0.06544471],\n",
       "         ...,\n",
       "         [-0.02692389,  0.528162  ,  0.1056366 , ..., -0.00318789,\n",
       "           0.2407453 ,  0.56764245],\n",
       "         [ 0.8891001 ,  0.22902417,  0.3304875 , ...,  0.97950554,\n",
       "          -0.8793185 ,  0.1107285 ],\n",
       "         [ 0.9245982 , -0.13502598,  0.43909192, ..., -0.7057526 ,\n",
       "           0.33616185, -0.8819368 ]], dtype=float32)>,\n",
       "  'h2': <tf.Tensor: shape=(392, 196), dtype=float32, numpy=\n",
       "  array([[ 0.10618043, -0.45263052, -0.384228  , ...,  0.50216603,\n",
       "          -0.98257494, -0.11875248],\n",
       "         [-0.9691148 ,  0.960351  , -0.3299961 , ...,  0.9437356 ,\n",
       "           0.9392078 , -0.8142402 ],\n",
       "         [ 0.88485694, -0.2118628 , -0.5411432 , ...,  0.1566782 ,\n",
       "           0.58958626, -0.6030803 ],\n",
       "         ...,\n",
       "         [ 0.50878406,  0.5970371 , -0.7252312 , ...,  0.2782271 ,\n",
       "           0.8542261 , -0.9818866 ],\n",
       "         [-0.89019394, -0.50274754, -0.24352217, ...,  0.03628421,\n",
       "          -0.631438  , -0.7597902 ],\n",
       "         [-0.03477311,  0.46722245,  0.18233919, ...,  0.4228046 ,\n",
       "           0.59710646,  0.17079711]], dtype=float32)>,\n",
       "  'out': <tf.Tensor: shape=(196, 10), dtype=float32, numpy=\n",
       "  array([[-0.71183753,  0.6788678 , -0.65596914, ...,  0.7371297 ,\n",
       "          -0.60308766, -0.92277956],\n",
       "         [-0.61840224,  0.87106204, -0.01635528, ...,  0.7944741 ,\n",
       "           0.13792324,  0.33683705],\n",
       "         [-0.58963704, -0.17495465, -0.63634133, ..., -0.02990365,\n",
       "          -0.02775407, -0.35084128],\n",
       "         ...,\n",
       "         [ 0.19344687, -0.81152415,  0.20275807, ...,  0.08487129,\n",
       "           0.88503003,  0.13247252],\n",
       "         [-0.687099  ,  0.91849804,  0.01451492, ..., -0.01332641,\n",
       "           0.18802404,  0.2738545 ],\n",
       "         [ 0.6504209 ,  0.55027103, -0.5514319 , ..., -0.2906785 ,\n",
       "           0.9645071 ,  0.24651623]], dtype=float32)>},\n",
       " {'h1': <tf.Tensor: shape=(392,), dtype=float32, numpy=\n",
       "  array([-0.9657872 ,  0.9061358 ,  0.8794253 , -0.8799021 , -0.84420776,\n",
       "          0.3182788 ,  0.24419236,  0.6548643 ,  0.9161327 ,  0.22986698,\n",
       "         -0.6318886 ,  0.16031528, -0.54335475,  0.4993322 ,  0.6785176 ,\n",
       "         -0.7792051 ,  0.81967306,  0.3609748 , -0.5400908 ,  0.6650126 ,\n",
       "          0.28427482, -0.3915565 ,  0.54260135,  0.69060993,  0.85741067,\n",
       "          0.10313368,  0.6834469 ,  0.8908355 , -0.14173889, -0.24061751,\n",
       "          0.5970776 ,  0.24546838,  0.2738521 , -0.06881547,  0.002841  ,\n",
       "          0.44061875, -0.10164046, -0.27058172, -0.0958724 ,  0.74222064,\n",
       "         -0.57214737, -0.47900343,  0.2658198 ,  0.8491044 , -0.9505284 ,\n",
       "          0.33991885,  0.19039989,  0.7587242 , -0.17819381,  0.6441655 ,\n",
       "          0.5633178 ,  0.6043067 , -0.20538688,  0.966239  ,  0.64465404,\n",
       "         -0.00988245,  0.82375455, -0.60075593, -0.72943354,  0.5732    ,\n",
       "          0.91280866, -0.3830433 , -0.6119189 , -0.04846025,  0.85031986,\n",
       "          0.36802053,  0.34077573,  0.7232919 ,  0.31812978, -0.69827795,\n",
       "         -0.15036535,  0.27315164, -0.7391257 ,  0.2965312 ,  0.02198386,\n",
       "          0.44795227, -0.34923053,  0.25837064,  0.9057126 , -0.30853605,\n",
       "         -0.35537362, -0.13583565, -0.20159674, -0.10246015,  0.0707283 ,\n",
       "          0.9865899 , -0.5305376 ,  0.7293422 ,  0.94341135,  0.2323556 ,\n",
       "         -0.9040203 ,  0.44650388, -0.3863268 ,  0.6612599 , -0.08387971,\n",
       "         -0.20545483, -0.89179444,  0.8672147 ,  0.59677815, -0.7181339 ,\n",
       "         -0.31140113,  0.1045804 , -0.6314306 , -0.4294443 ,  0.58761525,\n",
       "          0.69211745, -0.1330018 , -0.03632331, -0.9969363 , -0.40330195,\n",
       "          0.6919887 ,  0.8593626 , -0.4681492 , -0.67525387,  0.60318804,\n",
       "         -0.41695642, -0.5268805 , -0.24962807, -0.07525134, -0.6199336 ,\n",
       "          0.16087246,  0.06726122,  0.2838335 ,  0.12873316, -0.11476779,\n",
       "         -0.5282531 ,  0.85707235, -0.22319984,  0.34818888, -0.36457586,\n",
       "          0.771261  , -0.9020014 ,  0.73154354,  0.00836968,  0.9042311 ,\n",
       "          0.6788678 ,  0.8073633 , -0.5160103 , -0.22579527,  0.7568495 ,\n",
       "         -0.75849223, -0.28918862,  0.75821567, -0.04670763,  0.61947966,\n",
       "         -0.01531506, -0.04051805,  0.45828867, -0.22874737,  0.26582122,\n",
       "          0.16350889, -0.6198783 ,  0.22557068,  0.3031373 , -0.790288  ,\n",
       "         -0.11705756,  0.15725875,  0.819474  ,  0.6440067 , -0.8347554 ,\n",
       "          0.8881953 ,  0.46307588,  0.60673475,  0.19711018,  0.5707152 ,\n",
       "          0.37977624,  0.13911676,  0.11203766,  0.7558842 ,  0.1432972 ,\n",
       "         -0.77377534, -0.4480741 ,  0.12543845, -0.49406862, -0.9028287 ,\n",
       "          0.07067704,  0.80690813, -0.69443774,  0.67943764, -0.5502608 ,\n",
       "          0.03795815,  0.17300391,  0.07802486,  0.91653204,  0.7762556 ,\n",
       "          0.27416396,  0.9647293 ,  0.66292524, -0.04284763, -0.68169904,\n",
       "         -0.11859894,  0.536443  , -0.54318   , -0.19631934,  0.6124842 ,\n",
       "         -0.31371713, -0.32413316, -0.9336109 ,  0.25473619,  0.20473838,\n",
       "          0.5172694 , -0.70480347, -0.7917111 , -0.02415991, -0.17103505,\n",
       "          0.0411222 , -0.71436   ,  0.49332404,  0.01640058,  0.86748075,\n",
       "         -0.35258865,  0.06479621, -0.5204556 ,  0.05877566, -0.2951393 ,\n",
       "          0.28377676, -0.9965129 , -0.44393897, -0.49153972,  0.70980334,\n",
       "          0.3895507 , -0.83938146, -0.6181185 , -0.70764637,  0.86310005,\n",
       "         -0.68234444,  0.3296764 , -0.5642395 , -0.6136944 , -0.7993183 ,\n",
       "         -0.8934722 , -0.5429826 ,  0.7377608 , -0.34539008, -0.6920159 ,\n",
       "         -0.82050157,  0.1826458 ,  0.42146134,  0.79068065, -0.1596837 ,\n",
       "         -0.18187714, -0.6577966 , -0.4531765 ,  0.9096441 , -0.6698394 ,\n",
       "          0.51973367,  0.4138217 , -0.27793264,  0.59173036,  0.8244381 ,\n",
       "          0.89942575,  0.30319548, -0.2192316 , -0.42130685, -0.39218545,\n",
       "         -0.93782616,  0.834646  , -0.43021393, -0.09368682, -0.20239854,\n",
       "         -0.07567239,  0.20425057, -0.8721099 , -0.5153587 , -0.27177   ,\n",
       "          0.5957258 , -0.40242577, -0.5117245 , -0.08270979, -0.26461983,\n",
       "          0.7174177 ,  0.48640537,  0.89567375, -0.63853455,  0.5090394 ,\n",
       "          0.34162736, -0.6472533 , -0.07163525,  0.08612514, -0.38009453,\n",
       "         -0.9859004 , -0.43246627, -0.6042087 ,  0.40211272, -0.45899034,\n",
       "         -0.46724892,  0.55848384, -0.94952464, -0.36253524, -0.01801872,\n",
       "          0.18460226, -0.49161172,  0.31457067,  0.1510613 , -0.20820928,\n",
       "          0.74213696, -0.64485717, -0.63993335, -0.38562632, -0.94411063,\n",
       "         -0.67650056, -0.48608756, -0.30206823, -0.9332237 ,  0.9856734 ,\n",
       "          0.9410553 ,  0.06108832, -0.16839981, -0.22951245,  0.3585918 ,\n",
       "         -0.53788304, -0.19655132,  0.34820724, -0.11819148, -0.22462654,\n",
       "          0.4737742 , -0.45984817,  0.00501251, -0.93041015,  0.53955364,\n",
       "         -0.60808897, -0.45508432,  0.13818383,  0.79310894, -0.7960048 ,\n",
       "         -0.59725523,  0.15331006, -0.29916787, -0.2834015 ,  0.06726742,\n",
       "         -0.51123667,  0.42047668,  0.44962907, -0.31223178, -0.871397  ,\n",
       "         -0.29109144, -0.6647966 ,  0.6039994 , -0.3231883 ,  0.80930066,\n",
       "          0.527086  ,  0.09993362, -0.33814025, -0.6034241 , -0.8637004 ,\n",
       "          0.31841922, -0.19115996, -0.6599374 ,  0.5180898 ,  0.20457625,\n",
       "          0.41863918, -0.01550841, -0.76960135,  0.9331753 , -0.53901935,\n",
       "         -0.4610772 ,  0.21809864,  0.15362978, -0.94498014, -0.6791575 ,\n",
       "         -0.7388325 , -0.4238665 ,  0.825449  , -0.35152245,  0.7148762 ,\n",
       "         -0.9727521 ,  0.24420309,  0.31878805, -0.48734426, -0.0280385 ,\n",
       "          0.15030432, -0.5452688 ,  0.35021877,  0.517473  , -0.95491815,\n",
       "         -0.85655355, -0.49232817, -0.2565794 , -0.7501869 , -0.39394426,\n",
       "         -0.62398696,  0.42339492, -0.46919847,  0.28832102, -0.60309696,\n",
       "          0.80026174,  0.4606464 , -0.7876475 ,  0.81421685, -0.39212203,\n",
       "         -0.74014974, -0.3569498 ], dtype=float32)>,\n",
       "  'h2': <tf.Tensor: shape=(196,), dtype=float32, numpy=\n",
       "  array([ 1.98879242e-01,  8.85010958e-01, -2.99455166e-01,  2.84934998e-01,\n",
       "          5.98562002e-01,  2.14350462e-01,  5.19505024e-01,  6.71552896e-01,\n",
       "          8.48770380e-01, -7.27906227e-02,  8.87476921e-01, -3.54841232e-01,\n",
       "          8.51292372e-01, -3.83294582e-01,  1.23741627e-01, -9.44051266e-01,\n",
       "         -8.05051565e-01, -6.30146742e-01, -3.62384796e-01, -3.66707325e-01,\n",
       "          6.09983683e-01, -4.91331339e-01,  7.34815359e-01,  9.06389952e-01,\n",
       "         -6.94941998e-01, -9.29053545e-01, -2.67217875e-01,  5.22291660e-02,\n",
       "          5.00739574e-01,  1.79159641e-01,  2.54901171e-01, -3.04072618e-01,\n",
       "          2.36443043e-01, -2.72026539e-01,  5.63401461e-01,  2.33830690e-01,\n",
       "         -5.56905985e-01,  7.21578836e-01, -7.92013168e-01,  7.79944420e-01,\n",
       "          9.43998337e-01,  7.71012545e-01, -2.17975140e-01,  7.89124966e-02,\n",
       "         -1.96364641e-01,  7.74683237e-01,  6.96208477e-01,  8.42670441e-01,\n",
       "         -3.26797009e-01, -1.58593178e-01, -1.96100950e-01, -5.75671673e-01,\n",
       "          2.27317810e-02, -4.21260595e-01,  5.62133312e-01,  2.11705685e-01,\n",
       "          5.70197105e-01, -3.74203920e-01, -9.02139664e-01,  3.12808990e-01,\n",
       "         -6.92755938e-01, -8.10035944e-01,  3.42459440e-01, -2.91388988e-01,\n",
       "         -7.04406023e-01, -8.86263132e-01, -4.36336279e-01,  8.70245934e-01,\n",
       "          3.04333687e-01,  7.19273329e-01,  9.89876986e-01, -7.91162729e-01,\n",
       "         -9.65783119e-01,  7.05812216e-01, -5.86786032e-01,  9.26189423e-02,\n",
       "         -6.17990255e-01,  8.82998228e-01,  6.70953035e-01, -9.86210823e-01,\n",
       "         -6.62051439e-01, -9.21927214e-01,  2.86325216e-01, -9.96468067e-02,\n",
       "          8.07283878e-01, -8.72117758e-01,  7.55262375e-01,  9.22542810e-01,\n",
       "          4.47258472e-01, -9.46407318e-01, -7.68182278e-02, -5.45410872e-01,\n",
       "          6.27234697e-01, -8.51535797e-02, -8.24968100e-01, -2.20079184e-01,\n",
       "          9.97543573e-01, -5.89807510e-01, -5.79009295e-01,  8.60786200e-01,\n",
       "          8.93075466e-02,  8.78996134e-01, -3.83540869e-01,  6.43562317e-01,\n",
       "          1.76664591e-01, -5.16567945e-01, -5.72897673e-01,  2.71948814e-01,\n",
       "         -2.81152010e-01, -8.73419285e-01, -6.04756832e-01, -2.42169857e-01,\n",
       "          2.13007212e-01, -7.20740795e-01, -3.80568504e-02,  5.36191225e-01,\n",
       "         -5.53464890e-03,  4.56572771e-01, -9.03626680e-01,  2.45583057e-01,\n",
       "          6.90298796e-01,  5.05398989e-01,  7.70807743e-01, -4.53029156e-01,\n",
       "          5.63328266e-01, -9.73454237e-01,  4.51525450e-01,  4.07397032e-01,\n",
       "         -6.05858088e-01,  2.86044598e-01,  5.00906706e-01,  1.10281944e-01,\n",
       "         -6.45315170e-01,  9.32392836e-01, -4.14848328e-04,  7.48660326e-01,\n",
       "          5.31099319e-01,  5.95538139e-01, -2.39852190e-01,  2.80037880e-01,\n",
       "         -1.58577681e-01,  3.23181629e-01, -4.82440472e-01, -7.00134993e-01,\n",
       "          5.77262163e-01, -8.19857121e-02, -8.37304831e-01, -1.36893511e-01,\n",
       "          6.06103897e-01, -1.77593708e-01, -3.24673653e-02, -9.33666229e-02,\n",
       "         -5.55980206e-02, -4.81201410e-01,  6.99682474e-01, -5.71291447e-02,\n",
       "         -3.93819809e-02, -2.39587545e-01, -7.72299767e-01,  4.10044432e-01,\n",
       "         -6.95048332e-01, -6.82506561e-01, -6.87006712e-01, -4.04034376e-01,\n",
       "          7.21955299e-02,  8.62391233e-01, -7.88615704e-01,  6.28291368e-01,\n",
       "          4.86024618e-01,  2.32138157e-01,  9.29003477e-01, -8.37581873e-01,\n",
       "         -3.89179707e-01,  5.33235073e-02,  9.45845842e-01,  8.62993002e-01,\n",
       "         -3.62920761e-03,  9.49601173e-01,  2.69696712e-02, -8.58026505e-01,\n",
       "         -3.48101377e-01,  5.38595915e-01,  8.90797377e-01,  7.63269663e-01,\n",
       "          7.12509632e-01,  4.62674141e-01,  2.20050812e-02,  4.95527744e-01,\n",
       "         -5.53067207e-01, -1.72949791e-01, -8.68876696e-01, -6.61637306e-01,\n",
       "         -1.51867151e-01, -9.62134123e-01,  7.09045887e-01, -4.55427885e-01],\n",
       "        dtype=float32)>,\n",
       "  'out': <tf.Tensor: shape=(10,), dtype=float32, numpy=\n",
       "  array([-0.45802236, -0.18353415,  0.97888684,  0.08220124,  0.9357879 ,\n",
       "         -0.46848297,  0.7322626 , -0.7989831 , -0.8811264 ,  0.21598983],\n",
       "        dtype=float32)>}]"
      ]
     },
     "execution_count": 20,
     "metadata": {},
     "output_type": "execute_result"
    }
   ],
   "source": [
    "trainable_vars = [weights['h1'],bias['h1'],weights['h2'],bias['h2'],weights['out'],bias['out']]\n",
    "trainable_vars\n",
    "trainable_vars1 = [weights,bias]\n",
    "trainable_vars1"
   ]
  },
  {
   "cell_type": "code",
   "execution_count": 21,
   "metadata": {},
   "outputs": [
    {
     "ename": "InvalidArgumentError",
     "evalue": "{{function_node __wrapped__SoftmaxCrossEntropyWithLogits_device_/job:localhost/replica:0/task:0/device:CPU:0}} logits and labels must be broadcastable: logits_size=[60000,10] labels_size=[1,60000] [Op:SoftmaxCrossEntropyWithLogits] name: ",
     "output_type": "error",
     "traceback": [
      "\u001b[1;31m---------------------------------------------------------------------------\u001b[0m",
      "\u001b[1;31mInvalidArgumentError\u001b[0m                      Traceback (most recent call last)",
      "Cell \u001b[1;32mIn[21], line 9\u001b[0m\n\u001b[0;32m      7\u001b[0m \u001b[38;5;28;01mwith\u001b[39;00m tf\u001b[38;5;241m.\u001b[39mGradientTape() \u001b[38;5;28;01mas\u001b[39;00m tape:\n\u001b[0;32m      8\u001b[0m     y_pred \u001b[38;5;241m=\u001b[39m forwardpropogation(x_train,weights,bias)\n\u001b[1;32m----> 9\u001b[0m     error \u001b[38;5;241m=\u001b[39m \u001b[43mtf\u001b[49m\u001b[38;5;241;43m.\u001b[39;49m\u001b[43mnn\u001b[49m\u001b[38;5;241;43m.\u001b[39;49m\u001b[43msoftmax_cross_entropy_with_logits\u001b[49m\u001b[43m(\u001b[49m\u001b[43mlabels\u001b[49m\u001b[38;5;241;43m=\u001b[39;49m\u001b[43my_train\u001b[49m\u001b[43m,\u001b[49m\u001b[43m \u001b[49m\u001b[43mlogits\u001b[49m\u001b[38;5;241;43m=\u001b[39;49m\u001b[43my_pred\u001b[49m\u001b[43m)\u001b[49m\n\u001b[0;32m     10\u001b[0m     loss \u001b[38;5;241m=\u001b[39m tf\u001b[38;5;241m.\u001b[39mreduce_mean(error)\n\u001b[0;32m     12\u001b[0m \u001b[38;5;66;03m# Compute gradients\u001b[39;00m\n",
      "File \u001b[1;32mc:\\Users\\91936\\Desktop\\digit recognition\\env\\Lib\\site-packages\\tensorflow\\python\\util\\traceback_utils.py:153\u001b[0m, in \u001b[0;36mfilter_traceback.<locals>.error_handler\u001b[1;34m(*args, **kwargs)\u001b[0m\n\u001b[0;32m    151\u001b[0m \u001b[38;5;28;01mexcept\u001b[39;00m \u001b[38;5;167;01mException\u001b[39;00m \u001b[38;5;28;01mas\u001b[39;00m e:\n\u001b[0;32m    152\u001b[0m   filtered_tb \u001b[38;5;241m=\u001b[39m _process_traceback_frames(e\u001b[38;5;241m.\u001b[39m__traceback__)\n\u001b[1;32m--> 153\u001b[0m   \u001b[38;5;28;01mraise\u001b[39;00m e\u001b[38;5;241m.\u001b[39mwith_traceback(filtered_tb) \u001b[38;5;28;01mfrom\u001b[39;00m \u001b[38;5;28;01mNone\u001b[39;00m\n\u001b[0;32m    154\u001b[0m \u001b[38;5;28;01mfinally\u001b[39;00m:\n\u001b[0;32m    155\u001b[0m   \u001b[38;5;28;01mdel\u001b[39;00m filtered_tb\n",
      "File \u001b[1;32mc:\\Users\\91936\\Desktop\\digit recognition\\env\\Lib\\site-packages\\tensorflow\\python\\framework\\ops.py:5883\u001b[0m, in \u001b[0;36mraise_from_not_ok_status\u001b[1;34m(e, name)\u001b[0m\n\u001b[0;32m   5881\u001b[0m \u001b[38;5;28;01mdef\u001b[39;00m \u001b[38;5;21mraise_from_not_ok_status\u001b[39m(e, name) \u001b[38;5;241m-\u001b[39m\u001b[38;5;241m>\u001b[39m NoReturn:\n\u001b[0;32m   5882\u001b[0m   e\u001b[38;5;241m.\u001b[39mmessage \u001b[38;5;241m+\u001b[39m\u001b[38;5;241m=\u001b[39m (\u001b[38;5;124m\"\u001b[39m\u001b[38;5;124m name: \u001b[39m\u001b[38;5;124m\"\u001b[39m \u001b[38;5;241m+\u001b[39m \u001b[38;5;28mstr\u001b[39m(name \u001b[38;5;28;01mif\u001b[39;00m name \u001b[38;5;129;01mis\u001b[39;00m \u001b[38;5;129;01mnot\u001b[39;00m \u001b[38;5;28;01mNone\u001b[39;00m \u001b[38;5;28;01melse\u001b[39;00m \u001b[38;5;124m\"\u001b[39m\u001b[38;5;124m\"\u001b[39m))\n\u001b[1;32m-> 5883\u001b[0m   \u001b[38;5;28;01mraise\u001b[39;00m core\u001b[38;5;241m.\u001b[39m_status_to_exception(e) \u001b[38;5;28;01mfrom\u001b[39;00m \u001b[38;5;28;01mNone\u001b[39;00m\n",
      "\u001b[1;31mInvalidArgumentError\u001b[0m: {{function_node __wrapped__SoftmaxCrossEntropyWithLogits_device_/job:localhost/replica:0/task:0/device:CPU:0}} logits and labels must be broadcastable: logits_size=[60000,10] labels_size=[1,60000] [Op:SoftmaxCrossEntropyWithLogits] name: "
     ]
    }
   ],
   "source": [
    "optimizer = tf.keras.optimizers.Adam(learning_rate=0.01)\n",
    "\n",
    "# Training loop\n",
    "epochs = 10\n",
    "\n",
    "for epoch in range(epochs):\n",
    "    with tf.GradientTape() as tape:\n",
    "        y_pred = forwardpropogation(x_train,weights,bias)\n",
    "        error = tf.nn.softmax_cross_entropy_with_logits(labels=y_train, logits=y_pred)\n",
    "        loss = tf.reduce_mean(error)\n",
    "\n",
    "    # Compute gradients\n",
    "    gradients = tape.gradient(loss, list(weights.values()) + list(bias.values()))\n",
    "\n",
    "    # Apply gradients\n",
    "    optimizer.apply_gradients(zip(gradients, list(weights.values()) + list(bias.values())))\n",
    "\n",
    "    # Calculate new predictions and accuracy\n",
    "    y_pred_new = forwardpropogation(x_train,weights,bias)\n",
    "    correct_pred_new = tf.equal(y_pred_new, y_train)\n",
    "    sum_correct_pred_new = tf.reduce_sum(tf.cast(correct_pred_new, dtype=tf.int32))\n",
    "\n",
    "    print(f'Epoch {epoch + 1}, Loss: {loss.numpy()}, Accuracy: {sum_correct_pred_new.numpy() / len(y_train)}')"
   ]
  },
  {
   "cell_type": "code",
   "execution_count": null,
   "metadata": {},
   "outputs": [],
   "source": []
  }
 ],
 "metadata": {
  "kernelspec": {
   "display_name": "env",
   "language": "python",
   "name": "python3"
  },
  "language_info": {
   "codemirror_mode": {
    "name": "ipython",
    "version": 3
   },
   "file_extension": ".py",
   "mimetype": "text/x-python",
   "name": "python",
   "nbconvert_exporter": "python",
   "pygments_lexer": "ipython3",
   "version": "3.11.7"
  }
 },
 "nbformat": 4,
 "nbformat_minor": 2
}
